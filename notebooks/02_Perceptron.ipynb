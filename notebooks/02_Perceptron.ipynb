{
 "cells": [
  {
   "attachments": {},
   "cell_type": "markdown",
   "metadata": {},
   "source": [
    "# Perceptron"
   ]
  },
  {
   "cell_type": "code",
   "execution_count": 2,
   "metadata": {},
   "outputs": [],
   "source": [
    "import numpy as np\n",
    "\n",
    "# perceptron\n",
    "def AND(x1, x2):\n",
    "    W = np.array([0.5, 0.5])\n",
    "    X = np.array([x1, x2])\n",
    "    b = -0.7\n",
    "    tmp = np.sum(W*X) + b\n",
    "    if tmp <= 0:\n",
    "        return 0\n",
    "    else:\n",
    "        return 1\n",
    "    \n",
    "def NAND(x1, x2):\n",
    "    W = np.array([-0.5, -0.5]) # AND 게이트와 가중치(w, b)만 다름\n",
    "    X = np.array([x1, x2])\n",
    "    b = 0.7\n",
    "    tmp = np.sum(W*X) + b\n",
    "    if tmp <= 0:\n",
    "        return 0\n",
    "    else:\n",
    "        return 1\n",
    "        \n",
    "def OR(x1, x2):\n",
    "    W = np.array([0.5, 0.5]) # AND 게이트와 가중치(w, b)만 다름\n",
    "    X = np.array([x1, x2])\n",
    "    b = -0.2\n",
    "    tmp = np.sum(W*X) + b\n",
    "    if tmp <= 0:\n",
    "        return 0\n",
    "    else:\n",
    "        return 1\n",
    "        \n",
    "def XOR(x1, x2):\n",
    "    s1 = NAND(x1, x2)\n",
    "    s2 = OR(x1, x2)\n",
    "    y = AND(s1, s2)\n",
    "    return y"
   ]
  },
  {
   "cell_type": "code",
   "execution_count": 3,
   "metadata": {},
   "outputs": [
    {
     "name": "stdout",
     "output_type": "stream",
     "text": [
      "1\n",
      "1\n",
      "0\n",
      "1\n"
     ]
    }
   ],
   "source": [
    "print(XOR(1, 0))\n",
    "print(OR(1, 0))\n",
    "print(AND(1, 0))\n",
    "print(NAND(1, 0))"
   ]
  }
 ],
 "metadata": {
  "kernelspec": {
   "display_name": "ml",
   "language": "python",
   "name": "python3"
  },
  "language_info": {
   "codemirror_mode": {
    "name": "ipython",
    "version": 3
   },
   "file_extension": ".py",
   "mimetype": "text/x-python",
   "name": "python",
   "nbconvert_exporter": "python",
   "pygments_lexer": "ipython3",
   "version": "3.9.16"
  },
  "orig_nbformat": 4
 },
 "nbformat": 4,
 "nbformat_minor": 2
}
