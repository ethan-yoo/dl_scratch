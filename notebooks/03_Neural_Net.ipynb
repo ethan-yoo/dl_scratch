{
 "cells": [
  {
   "attachments": {},
   "cell_type": "markdown",
   "metadata": {},
   "source": [
    "# Perceptron"
   ]
  },
  {
   "cell_type": "code",
   "execution_count": 18,
   "metadata": {},
   "outputs": [],
   "source": [
    "import numpy as np\n",
    "\n",
    "# perceptron\n",
    "def AND(x1, x2):\n",
    "    W = np.array([0.5, 0.5])\n",
    "    X = np.array([x1, x2])\n",
    "    b = -0.7\n",
    "    tmp = np.sum(W*X) + b\n",
    "    if tmp <= 0:\n",
    "        return 0\n",
    "    else:\n",
    "        return 1\n",
    "    \n",
    "def NAND(x1, x2):\n",
    "    W = np.array([-0.5, -0.5]) # AND 게이트와 가중치(w, b)만 다름\n",
    "    X = np.array([x1, x2])\n",
    "    b = 0.7\n",
    "    tmp = np.sum(W*X) + b\n",
    "    if tmp <= 0:\n",
    "        return 0\n",
    "    else:\n",
    "        return 1\n",
    "        \n",
    "def OR(x1, x2):\n",
    "    W = np.array([0.5, 0.5]) # AND 게이트와 가중치(w, b)만 다름\n",
    "    X = np.array([x1, x2])\n",
    "    b = -0.2\n",
    "    tmp = np.sum(W*X) + b\n",
    "    if tmp <= 0:\n",
    "        return 0\n",
    "    else:\n",
    "        return 1\n",
    "        \n",
    "def XOR(x1, x2):\n",
    "    s1 = NAND(x1, x2)\n",
    "    s2 = OR(x1, x2)\n",
    "    y = AND(s1, s2)\n",
    "    return y\n",
    "    "
   ]
  },
  {
   "cell_type": "code",
   "execution_count": 19,
   "metadata": {},
   "outputs": [
    {
     "name": "stdout",
     "output_type": "stream",
     "text": [
      "1\n",
      "1\n",
      "0\n",
      "1\n"
     ]
    }
   ],
   "source": [
    "print(XOR(1, 0))\n",
    "print(OR(1, 0))\n",
    "print(AND(1, 0))\n",
    "print(NAND(1, 0))"
   ]
  },
  {
   "attachments": {},
   "cell_type": "markdown",
   "metadata": {},
   "source": [
    "# Activation function"
   ]
  },
  {
   "cell_type": "code",
   "execution_count": 20,
   "metadata": {},
   "outputs": [],
   "source": [
    "def step_function(x):\n",
    "    y = x > 0\n",
    "    return y.astype(np.int32)"
   ]
  },
  {
   "cell_type": "code",
   "execution_count": 50,
   "metadata": {},
   "outputs": [],
   "source": [
    "def sigmoid(x):\n",
    "    return 1 / (1 + np.exp(-x))"
   ]
  },
  {
   "cell_type": "code",
   "execution_count": 22,
   "metadata": {},
   "outputs": [],
   "source": [
    "def softmax(x):\n",
    "    const = np.max(x)\n",
    "    exp_a = np.exp(x-const)\n",
    "    sum_exp_a = np.sum(exp_a)\n",
    "    y = exp_a / sum_exp_a\n",
    "    return y"
   ]
  },
  {
   "cell_type": "code",
   "execution_count": 23,
   "metadata": {},
   "outputs": [],
   "source": [
    "def relu(x):\n",
    "    y = np.maximum(0, x)\n",
    "    return y"
   ]
  },
  {
   "cell_type": "code",
   "execution_count": 24,
   "metadata": {},
   "outputs": [
    {
     "name": "stdout",
     "output_type": "stream",
     "text": [
      "step function: \n",
      " [[1 0]\n",
      " [1 1]]\n",
      "sigmoid: \n",
      " [[0.92619234 0.16916576]\n",
      " [0.54690568 0.86286704]]\n",
      "relu: \n",
      " [[2.52961941 0.        ]\n",
      " [0.18817603 1.83930963]]\n",
      "softmax: [[0.61964206 0.01005401]\n",
      " [0.05960257 0.31070137]]\n"
     ]
    }
   ],
   "source": [
    "test = np.random.randn(2, 2)\n",
    "print(\"step function: \\n\", step_function(test))\n",
    "print(\"sigmoid: \\n\", sigmoid(test))\n",
    "print(\"relu: \\n\", relu(test))\n",
    "print(\"softmax:\", softmax(test))"
   ]
  },
  {
   "attachments": {},
   "cell_type": "markdown",
   "metadata": {},
   "source": [
    "# Neural Network"
   ]
  },
  {
   "cell_type": "code",
   "execution_count": 25,
   "metadata": {},
   "outputs": [],
   "source": [
    "def init_network():\n",
    "    network = {}\n",
    "    network['W1'] = np.random.randn(2, 2)\n",
    "    network['b1'] = np.random.randn(2, 2)\n",
    "    network['W2'] = np.random.randn(2, 2)\n",
    "    network['b2'] = np.random.randn(2, 2)\n",
    "    network['W3'] = np.random.randn(2, 2)\n",
    "    network['b3'] = np.random.randn(2, 2)\n",
    "    \n",
    "    return network\n",
    "\n",
    "def forward(network, x, activation):\n",
    "    W1, W2, W3 = network['W1'], network['W2'], network['W3']\n",
    "    b1, b2, b3 = network['b1'], network['b2'], network['b3']\n",
    "    \n",
    "    l1 = np.dot(x, W1) + b1\n",
    "    z1 = activation(l1)\n",
    "    l2 = np.dot(z1, W2) + b2\n",
    "    z2 = activation(l2)\n",
    "    l3 = np.dot(z2, W3) + b3\n",
    "    z3 = activation(l3)\n",
    "\n",
    "    return z3"
   ]
  },
  {
   "cell_type": "code",
   "execution_count": 26,
   "metadata": {},
   "outputs": [
    {
     "name": "stdout",
     "output_type": "stream",
     "text": [
      "[[0.69047493 0.85802048]\n",
      " [0.26403635 0.12270176]]\n"
     ]
    }
   ],
   "source": [
    "network_test = init_network()\n",
    "test_result = forward(network_test, test, sigmoid)\n",
    "print(test_result)\n"
   ]
  },
  {
   "cell_type": "code",
   "execution_count": 27,
   "metadata": {},
   "outputs": [
    {
     "name": "stdout",
     "output_type": "stream",
     "text": [
      "[[0.3838867  0.55066181]\n",
      " [0.05371374 0.01173775]]\n"
     ]
    }
   ],
   "source": [
    "test_result = forward(network_test, test, softmax)\n",
    "print(test_result)"
   ]
  },
  {
   "attachments": {},
   "cell_type": "markdown",
   "metadata": {},
   "source": [
    "# MNIST tuto"
   ]
  },
  {
   "attachments": {},
   "cell_type": "markdown",
   "metadata": {},
   "source": [
    "## load data"
   ]
  },
  {
   "cell_type": "code",
   "execution_count": 42,
   "metadata": {},
   "outputs": [],
   "source": [
    "import sys, os\n",
    "sys.path.append(\"C\\:\\\\Users\\\\JEJOON YOO\\\\Desktop\\\\prgm\\\\밑시딥\\\\dataset\")\n",
    "from mnist import load_mnist"
   ]
  },
  {
   "cell_type": "code",
   "execution_count": 43,
   "metadata": {},
   "outputs": [],
   "source": [
    "(x_train, y_train), (x_test, y_test) = load_mnist(flatten=True, normalize=True)"
   ]
  },
  {
   "cell_type": "code",
   "execution_count": 44,
   "metadata": {},
   "outputs": [
    {
     "name": "stdout",
     "output_type": "stream",
     "text": [
      "(60000, 784)\n",
      "(60000,)\n",
      "(10000, 784)\n",
      "(10000,)\n"
     ]
    }
   ],
   "source": [
    "print(x_train.shape)\n",
    "print(y_train.shape)\n",
    "print(x_test.shape)\n",
    "print(y_test.shape)"
   ]
  },
  {
   "attachments": {},
   "cell_type": "markdown",
   "metadata": {},
   "source": [
    "## inference tutorial"
   ]
  },
  {
   "cell_type": "code",
   "execution_count": 68,
   "metadata": {},
   "outputs": [],
   "source": [
    "import pickle\n",
    "\n",
    "def get_data():\n",
    "    (x_train, t_train), (x_test, t_test) = \\\n",
    "        load_mnist(flatten=True, normalize=True, one_hot_label=False)\n",
    "    return x_test, t_test\n",
    "\n",
    "def init_network():\n",
    "    with open(\"sample_weight.pkl\", 'rb') as f:\n",
    "        network = pickle.load(f)\n",
    "    return network\n",
    "\n",
    "def predict(network, x):\n",
    "    W1, W2, W3 = network['W1'], network['W2'], network['W3']\n",
    "    b1, b2, b3 = network['b1'], network['b1'], network['b1']\n",
    "    \n",
    "    a1 = np.dot(x, W1) + b1\n",
    "    z1 = sigmoid(a1)\n",
    "    a2 = np.dot(z1, W2) + b2\n",
    "    z2 = sigmoid(a2)\n",
    "    a3 = np.dot(z2.T, W3) + b3\n",
    "    y = softmax(a3)\n",
    "    \n",
    "    return y\n"
   ]
  },
  {
   "cell_type": "code",
   "execution_count": 67,
   "metadata": {},
   "outputs": [
    {
     "ename": "ValueError",
     "evalue": "operands could not be broadcast together with shapes (100,) (50,) ",
     "output_type": "error",
     "traceback": [
      "\u001b[1;31m---------------------------------------------------------------------------\u001b[0m",
      "\u001b[1;31mValueError\u001b[0m                                Traceback (most recent call last)",
      "Cell \u001b[1;32mIn[67], line 6\u001b[0m\n\u001b[0;32m      4\u001b[0m acc_cnt \u001b[39m=\u001b[39m \u001b[39m0\u001b[39m\n\u001b[0;32m      5\u001b[0m \u001b[39mfor\u001b[39;00m i \u001b[39min\u001b[39;00m \u001b[39mrange\u001b[39m(\u001b[39mlen\u001b[39m(x)):\n\u001b[1;32m----> 6\u001b[0m     y \u001b[39m=\u001b[39m predict(network, x[i])\n\u001b[0;32m      7\u001b[0m     p  \u001b[39m=\u001b[39m np\u001b[39m.\u001b[39margmax(y)\n\u001b[0;32m      8\u001b[0m     \u001b[39mif\u001b[39;00m p \u001b[39m==\u001b[39m t[i]:\n",
      "Cell \u001b[1;32mIn[66], line 19\u001b[0m, in \u001b[0;36mpredict\u001b[1;34m(network, x)\u001b[0m\n\u001b[0;32m     17\u001b[0m a1 \u001b[39m=\u001b[39m np\u001b[39m.\u001b[39mdot(x, W1) \u001b[39m+\u001b[39m b1\n\u001b[0;32m     18\u001b[0m z1 \u001b[39m=\u001b[39m sigmoid(a1)\n\u001b[1;32m---> 19\u001b[0m a2 \u001b[39m=\u001b[39m np\u001b[39m.\u001b[39;49mdot(np\u001b[39m.\u001b[39;49mtranspose(z1), W2) \u001b[39m+\u001b[39;49m b2\n\u001b[0;32m     20\u001b[0m z2 \u001b[39m=\u001b[39m sigmoid(a2)\n\u001b[0;32m     21\u001b[0m a3 \u001b[39m=\u001b[39m np\u001b[39m.\u001b[39mdot(z2\u001b[39m.\u001b[39mT, W3) \u001b[39m+\u001b[39m b3\n",
      "\u001b[1;31mValueError\u001b[0m: operands could not be broadcast together with shapes (100,) (50,) "
     ]
    }
   ],
   "source": [
    "x, t = get_data()\n",
    "network = init_network()\n",
    "\n",
    "acc_cnt = 0\n",
    "for i in range(len(x)):\n",
    "    y = predict(network, x[i])\n",
    "    p  = np.argmax(y)\n",
    "    if p == t[i]:\n",
    "        acc_cnt += 1\n",
    "\n",
    "print(\"Acc:\" + str(float(acc_cnt) / len(x)))"
   ]
  },
  {
   "cell_type": "code",
   "execution_count": null,
   "metadata": {},
   "outputs": [],
   "source": []
  }
 ],
 "metadata": {
  "kernelspec": {
   "display_name": "main",
   "language": "python",
   "name": "python3"
  },
  "language_info": {
   "codemirror_mode": {
    "name": "ipython",
    "version": 3
   },
   "file_extension": ".py",
   "mimetype": "text/x-python",
   "name": "python",
   "nbconvert_exporter": "python",
   "pygments_lexer": "ipython3",
   "version": "3.9.15"
  },
  "orig_nbformat": 4,
  "vscode": {
   "interpreter": {
    "hash": "9117d12efae1e98fc1f9961f45f5c4f9845d08d5c6e4ce0d89b2e72472089ae5"
   }
  }
 },
 "nbformat": 4,
 "nbformat_minor": 2
}
