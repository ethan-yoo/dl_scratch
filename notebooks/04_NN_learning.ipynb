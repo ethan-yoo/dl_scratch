{
 "cells": [
  {
   "cell_type": "code",
   "execution_count": 1,
   "metadata": {},
   "outputs": [],
   "source": [
    "import numpy as np"
   ]
  },
  {
   "attachments": {},
   "cell_type": "markdown",
   "metadata": {},
   "source": [
    "## sum of squared\n",
    "\n",
    "$S={1\\over 2}\\sum_k(y_{pred}-y_{true})^2$"
   ]
  },
  {
   "cell_type": "code",
   "execution_count": 2,
   "metadata": {},
   "outputs": [],
   "source": [
    "def sse(pred, true):\n",
    "    result = 0.5 * np.sum(np.square(pred-true))\n",
    "    return result"
   ]
  },
  {
   "cell_type": "code",
   "execution_count": 5,
   "metadata": {},
   "outputs": [
    {
     "name": "stdout",
     "output_type": "stream",
     "text": [
      "3.0\n",
      "14.5\n"
     ]
    }
   ],
   "source": [
    "aa = np.array([2, 4, 5])\n",
    "bb = np.array([3, 6, 4])\n",
    "cc = np.array([[1, 2, 3],\n",
    "               [4, 5, 6]])\n",
    "dd = np.array([[2, 3, 2],\n",
    "               [4, 6, 1]])\n",
    "\n",
    "print(sse(aa, bb))\n",
    "print(sse(cc, dd))"
   ]
  },
  {
   "attachments": {},
   "cell_type": "markdown",
   "metadata": {},
   "source": [
    "## Cross Entropy\n",
    "\n",
    "$CE = -\\sum_ky_{true}\\log y_{pred}$"
   ]
  },
  {
   "cell_type": "code",
   "execution_count": 13,
   "metadata": {},
   "outputs": [],
   "source": [
    "def ce(pred, true):\n",
    "    delta = 1e-7\n",
    "    result = -np.sum(true * np.log(pred + delta))\n",
    "    return result"
   ]
  },
  {
   "cell_type": "code",
   "execution_count": 45,
   "metadata": {},
   "outputs": [
    {
     "name": "stdout",
     "output_type": "stream",
     "text": [
      "2.5826836360035736\n",
      "-14.97866166776995\n",
      "-16.834959738135577\n"
     ]
    }
   ],
   "source": [
    "aa2 = np.array([0.5, 0.2, 0.0, 0.3])\n",
    "bb2 = np.array([0.3, 0.1, 0.1, 0.5])\n",
    "\n",
    "\n",
    "print(ce(aa2, bb2)) # 정상작동\n",
    "print(ce(aa, aa))\n",
    "print(ce(aa, bb))"
   ]
  },
  {
   "attachments": {},
   "cell_type": "markdown",
   "metadata": {},
   "source": [
    "## Mean Cross Entropy\n",
    "\n",
    "$MCE={1\\over N}\\sum_n\\sum_kpred_{nk}\\log true_{nk}$"
   ]
  },
  {
   "cell_type": "code",
   "execution_count": 72,
   "metadata": {},
   "outputs": [],
   "source": [
    "def mce(true, pred):\n",
    "    delta = 1e-7\n",
    "    \n",
    "    if pred.ndim == 1:\n",
    "        pred = pred.reshape(1, pred.size)\n",
    "        true = true.reshape(1, true.size)\n",
    "    \n",
    "    batch_size = pred.shape[0]\n",
    "    result = -np.sum(true * np.log(pred + delta)) / batch_size\n",
    "        \n",
    "    return result"
   ]
  },
  {
   "cell_type": "code",
   "execution_count": 73,
   "metadata": {},
   "outputs": [
    {
     "name": "stdout",
     "output_type": "stream",
     "text": [
      "-16.295734518181224\n",
      "1.2704471482632278\n",
      "1.0296527140646252\n",
      "-9.7368945700979\n"
     ]
    }
   ],
   "source": [
    "print(mce(aa, bb))\n",
    "print(mce(aa2, bb2)) # 정상작동\n",
    "print(mce(aa2, aa2)) # 정상작동\n",
    "print(mce(cc, dd))"
   ]
  },
  {
   "cell_type": "code",
   "execution_count": 78,
   "metadata": {},
   "outputs": [],
   "source": [
    "## mnist test\n",
    "from mnist import load_mnist\n",
    "\n",
    "(x_train, y_train), (x_test, y_test) = load_mnist(normalize=True, one_hot_label=True)\n",
    "\n",
    "train_size = x_train.shape[0]\n",
    "batch_size = 10\n",
    "batch_mask = np.random.choice(train_size, batch_size)\n",
    "x_batch = x_train[batch_mask]\n",
    "y_batch = y_train[batch_mask]"
   ]
  },
  {
   "cell_type": "code",
   "execution_count": 81,
   "metadata": {},
   "outputs": [
    {
     "name": "stdout",
     "output_type": "stream",
     "text": [
      "883.9427734375\n"
     ]
    }
   ],
   "source": [
    "print(mce(x_train[:10], x_test[:10]))"
   ]
  },
  {
   "attachments": {},
   "cell_type": "markdown",
   "metadata": {},
   "source": [
    "## 수치 미분\n",
    "\n",
    "${\\delta f(x)\\over \\delta x} = \\lim_{h\\rightarrow0}{f(x+h)-f(x) \\over h}$"
   ]
  },
  {
   "cell_type": "code",
   "execution_count": 97,
   "metadata": {},
   "outputs": [],
   "source": [
    "# 중앙 차분을 활용한 수치 미분 구현\n",
    "\n",
    "def diff(f, x):\n",
    "    h = 1e-4\n",
    "    result = (f(x+h) - f(x-h)) / 2*h\n",
    "    return result"
   ]
  },
  {
   "attachments": {},
   "cell_type": "markdown",
   "metadata": {},
   "source": [
    "### example\n",
    "\n",
    "$f(x) = 0.01x^2 + 0.1x$"
   ]
  },
  {
   "cell_type": "code",
   "execution_count": 101,
   "metadata": {},
   "outputs": [],
   "source": [
    "def func1(x):\n",
    "    return 0.01 * (x**2) + 0.1 * x"
   ]
  },
  {
   "cell_type": "code",
   "execution_count": 102,
   "metadata": {},
   "outputs": [
    {
     "data": {
      "image/png": "[encoded data removed]",
      "text/plain": [
       "<Figure size 640x480 with 1 Axes>"
      ]
     },
     "metadata": {},
     "output_type": "display_data"
    },
    {
     "data": {
      "text/plain": [
       "<Figure size 800x800 with 0 Axes>"
      ]
     },
     "metadata": {},
     "output_type": "display_data"
    }
   ],
   "source": [
    "import matplotlib.pylab as plt\n",
    "\n",
    "x = np.arange(0.0, 20.0, 0.1)\n",
    "y = func1(x)\n",
    "plt.xlabel(\"x\")\n",
    "plt.ylabel(\"y\")\n",
    "plt.plot(x, y)\n",
    "plt.figure(figsize=(8, 8))\n",
    "plt.show()"
   ]
  },
  {
   "cell_type": "code",
   "execution_count": 103,
   "metadata": {},
   "outputs": [
    {
     "name": "stdout",
     "output_type": "stream",
     "text": [
      "1.9999999999908982e-09\n",
      "2.999999999986347e-09\n"
     ]
    }
   ],
   "source": [
    "print(diff(func1, 5))\n",
    "print(diff(func1, 10))"
   ]
  },
  {
   "attachments": {},
   "cell_type": "markdown",
   "metadata": {},
   "source": [
    "## 편미분\n",
    "\n",
    "$f(x_0, x_1) = x_0^2+x_1^2$"
   ]
  },
  {
   "cell_type": "code",
   "execution_count": 104,
   "metadata": {},
   "outputs": [],
   "source": [
    "def func2(x):\n",
    "    return np.sum(x**2)"
   ]
  },
  {
   "attachments": {},
   "cell_type": "markdown",
   "metadata": {},
   "source": [
    "### example 1\n",
    "$x_0=3, x_1=4$일 때, ${\\delta f\\over \\delta x_0} =?$"
   ]
  },
  {
   "cell_type": "code",
   "execution_count": 110,
   "metadata": {},
   "outputs": [
    {
     "name": "stdout",
     "output_type": "stream",
     "text": [
      "6.000000000003781e-08\n"
     ]
    }
   ],
   "source": [
    "x = np.array([3, 4])\n",
    "\n",
    "def temp1(x):\n",
    "    result = x**2 + 4**2\n",
    "    return result\n",
    "\n",
    "print(diff(temp1, 3))"
   ]
  },
  {
   "attachments": {},
   "cell_type": "markdown",
   "metadata": {},
   "source": [
    "### example 2\n",
    "\n",
    "$x_0=3, x_1=4$일 때, ${\\delta f\\over \\delta x_1} =?$"
   ]
  },
  {
   "cell_type": "code",
   "execution_count": 113,
   "metadata": {},
   "outputs": [
    {
     "name": "stdout",
     "output_type": "stream",
     "text": [
      "7.999999999999119e-08\n"
     ]
    }
   ],
   "source": [
    "def temp2(x):\n",
    "    return 3**2 + x**2\n",
    "\n",
    "print(diff(temp2, 4))"
   ]
  },
  {
   "attachments": {},
   "cell_type": "markdown",
   "metadata": {},
   "source": [
    "## 기울기 계산"
   ]
  },
  {
   "cell_type": "code",
   "execution_count": null,
   "metadata": {},
   "outputs": [],
   "source": []
  }
 ],
 "metadata": {
  "kernelspec": {
   "display_name": "main",
   "language": "python",
   "name": "python3"
  },
  "language_info": {
   "codemirror_mode": {
    "name": "ipython",
    "version": 3
   },
   "file_extension": ".py",
   "mimetype": "text/x-python",
   "name": "python",
   "nbconvert_exporter": "python",
   "pygments_lexer": "ipython3",
   "version": "3.9.15"
  },
  "orig_nbformat": 4
 },
 "nbformat": 4,
 "nbformat_minor": 2
}
